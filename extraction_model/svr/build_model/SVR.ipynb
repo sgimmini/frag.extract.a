{
 "cells": [
  {
   "cell_type": "code",
   "execution_count": 1,
   "metadata": {},
   "outputs": [],
   "source": [
    "import pandas as pd\n",
    "import numpy as np\n",
    "from sklearn.model_selection import train_test_split\n",
    "import sklearn\n",
    "# found while trying out parameters: [kernel: 'sigmoid',gamma: 0.015, c:27]\n",
    "from sklearn.svm import SVR\n",
    "from sklearn.feature_extraction.text import TfidfTransformer, CountVectorizer, TfidfVectorizer\n",
    "from sklearn.metrics import accuracy_score\n",
    "from tqdm import tqdm\n",
    "import warnings\n",
    "warnings.simplefilter(action='ignore')\n",
    "from sklearn.ensemble import RandomForestRegressor"
   ]
  },
  {
   "cell_type": "code",
   "execution_count": 2,
   "metadata": {},
   "outputs": [],
   "source": [
    "# data loading\n",
    "path = \"~/conala-corpus/\"\n",
    "test_path = \"conala-test.json\"\n",
    "train_path = \"conala-train.json\"\n",
    "mined_path = \"conala-mined.jsonl\"\n",
    "test = pd.read_json(path+test_path)\n",
    "train = pd.read_json(path+train_path)\n",
    "mined = pd.read_json(path+mined_path, lines=True)\n",
    "mined = mined.sample(100000)\n",
    "# train test split\n",
    "mined_x = mined[['intent', 'snippet']]# .head(300000)\n",
    "mined_y = mined['prob']# .head(300000)\n",
    "del mined\n",
    "del train"
   ]
  },
  {
   "cell_type": "code",
   "execution_count": 3,
   "metadata": {},
   "outputs": [],
   "source": [
    "mined_x['intent'] = mined_x['intent'] + '  |STOP|  '\n",
    "mined_x['intent'] = mined_x['intent'] + mined_x['snippet']\n",
    "mined_x.drop(['snippet'], inplace=True, axis=1)"
   ]
  },
  {
   "cell_type": "code",
   "execution_count": 4,
   "metadata": {},
   "outputs": [],
   "source": [
    "vectorizer = TfidfVectorizer()\n",
    "mined_x = vectorizer.fit_transform(mined_x['intent'])"
   ]
  },
  {
   "cell_type": "code",
   "execution_count": 5,
   "metadata": {},
   "outputs": [],
   "source": [
    "X_train, X_test, y_train, y_test = train_test_split(mined_x, mined_y, test_size=0.25, random_state=42)"
   ]
  },
  {
   "cell_type": "code",
   "execution_count": 6,
   "metadata": {},
   "outputs": [
    {
     "name": "stderr",
     "output_type": "stream",
     "text": [
      "[Parallel(n_jobs=-1)]: Using backend ThreadingBackend with 8 concurrent workers.\n",
      "[Parallel(n_jobs=-1)]: Done  34 tasks      | elapsed: 27.8min\n",
      "[Parallel(n_jobs=-1)]: Done 184 tasks      | elapsed: 129.9min\n",
      "[Parallel(n_jobs=-1)]: Done 434 tasks      | elapsed: 305.9min\n",
      "[Parallel(n_jobs=-1)]: Done 784 tasks      | elapsed: 554.2min\n",
      "[Parallel(n_jobs=-1)]: Done 999 out of 999 | elapsed: 703.7min finished\n",
      "[Parallel(n_jobs=8)]: Using backend ThreadingBackend with 8 concurrent workers.\n",
      "[Parallel(n_jobs=8)]: Done  34 tasks      | elapsed:    0.4s\n",
      "[Parallel(n_jobs=8)]: Done 184 tasks      | elapsed:    2.0s\n",
      "[Parallel(n_jobs=8)]: Done 434 tasks      | elapsed:    4.6s\n",
      "[Parallel(n_jobs=8)]: Done 784 tasks      | elapsed:    8.3s\n",
      "[Parallel(n_jobs=8)]: Done 999 out of 999 | elapsed:   10.5s finished\n"
     ]
    }
   ],
   "source": [
    "model = RandomForestRegressor(verbose=1, n_jobs=-1, n_estimators=999)\n",
    "model.fit(X_train, y_train)\n",
    "score = model.score(X_test, y_test)"
   ]
  },
  {
   "cell_type": "code",
   "execution_count": 7,
   "metadata": {},
   "outputs": [
    {
     "name": "stdout",
     "output_type": "stream",
     "text": [
      "0.2099675610183723\n"
     ]
    }
   ],
   "source": [
    "print(score)"
   ]
  },
  {
   "cell_type": "code",
   "execution_count": 9,
   "metadata": {},
   "outputs": [
    {
     "data": {
      "text/plain": [
       "['RFR.joblib']"
      ]
     },
     "execution_count": 9,
     "metadata": {},
     "output_type": "execute_result"
    }
   ],
   "source": [
    "from joblib import dump, load\n",
    "dump(model, 'RFR.joblib')"
   ]
  },
  {
   "cell_type": "code",
   "execution_count": null,
   "metadata": {},
   "outputs": [],
   "source": [
    "import pickle\n",
    "pickle.dump(model, 'rfr.p')"
   ]
  },
  {
   "cell_type": "code",
   "execution_count": null,
   "metadata": {},
   "outputs": [],
   "source": []
  }
 ],
 "metadata": {
  "kernelspec": {
   "display_name": "Python 3",
   "language": "python",
   "name": "python3"
  },
  "language_info": {
   "codemirror_mode": {
    "name": "ipython",
    "version": 3
   },
   "file_extension": ".py",
   "mimetype": "text/x-python",
   "name": "python",
   "nbconvert_exporter": "python",
   "pygments_lexer": "ipython3",
   "version": "3.6.8"
  }
 },
 "nbformat": 4,
 "nbformat_minor": 2
}
